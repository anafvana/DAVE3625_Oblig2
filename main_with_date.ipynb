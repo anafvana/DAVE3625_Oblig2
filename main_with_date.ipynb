{
 "cells": [
  {
   "cell_type": "markdown",
   "metadata": {},
   "source": [
    "# Implementing all models \n"
   ]
  },
  {
   "cell_type": "code",
   "execution_count": 1,
   "metadata": {},
   "outputs": [],
   "source": [
    "import pandas as pd\n",
    "import sklearn\n",
    "import matplotlib.pyplot as plt\n",
    "import seaborn as sns\n",
    "\n",
    "import numpy as np"
   ]
  },
  {
   "cell_type": "code",
   "execution_count": 2,
   "metadata": {},
   "outputs": [],
   "source": [
    "df = pd.read_csv(\"NAS.csv\")                         #Read the csv\n",
    "df.iloc[:, 0]= pd.to_datetime(df.iloc[:, 0])        #Convert date to datetime  \n",
    "df.set_index('Date',inplace=True)                   #Setting date as index"
   ]
  },
  {
   "cell_type": "code",
   "execution_count": 3,
   "metadata": {},
   "outputs": [
    {
     "data": {
      "text/html": [
       "<div>\n",
       "<style scoped>\n",
       "    .dataframe tbody tr th:only-of-type {\n",
       "        vertical-align: middle;\n",
       "    }\n",
       "\n",
       "    .dataframe tbody tr th {\n",
       "        vertical-align: top;\n",
       "    }\n",
       "\n",
       "    .dataframe thead th {\n",
       "        text-align: right;\n",
       "    }\n",
       "</style>\n",
       "<table border=\"1\" class=\"dataframe\">\n",
       "  <thead>\n",
       "    <tr style=\"text-align: right;\">\n",
       "      <th></th>\n",
       "      <th>Open</th>\n",
       "      <th>High</th>\n",
       "      <th>Low</th>\n",
       "      <th>Close</th>\n",
       "      <th>Adj Close</th>\n",
       "      <th>Volume</th>\n",
       "    </tr>\n",
       "    <tr>\n",
       "      <th>Date</th>\n",
       "      <th></th>\n",
       "      <th></th>\n",
       "      <th></th>\n",
       "      <th></th>\n",
       "      <th></th>\n",
       "      <th></th>\n",
       "    </tr>\n",
       "  </thead>\n",
       "  <tbody>\n",
       "    <tr>\n",
       "      <th>2020-10-12</th>\n",
       "      <td>0.7090</td>\n",
       "      <td>0.7100</td>\n",
       "      <td>0.6500</td>\n",
       "      <td>0.6768</td>\n",
       "      <td>0.6768</td>\n",
       "      <td>48320475.0</td>\n",
       "    </tr>\n",
       "    <tr>\n",
       "      <th>2020-10-13</th>\n",
       "      <td>0.6768</td>\n",
       "      <td>0.6768</td>\n",
       "      <td>0.6000</td>\n",
       "      <td>0.6006</td>\n",
       "      <td>0.6006</td>\n",
       "      <td>47786200.0</td>\n",
       "    </tr>\n",
       "    <tr>\n",
       "      <th>2020-10-14</th>\n",
       "      <td>0.6010</td>\n",
       "      <td>0.6400</td>\n",
       "      <td>0.5962</td>\n",
       "      <td>0.6260</td>\n",
       "      <td>0.6260</td>\n",
       "      <td>37534949.0</td>\n",
       "    </tr>\n",
       "    <tr>\n",
       "      <th>2020-10-15</th>\n",
       "      <td>0.6260</td>\n",
       "      <td>0.6260</td>\n",
       "      <td>0.5850</td>\n",
       "      <td>0.6050</td>\n",
       "      <td>0.6050</td>\n",
       "      <td>26737615.0</td>\n",
       "    </tr>\n",
       "    <tr>\n",
       "      <th>2020-10-16</th>\n",
       "      <td>0.6050</td>\n",
       "      <td>0.6200</td>\n",
       "      <td>0.6010</td>\n",
       "      <td>0.6106</td>\n",
       "      <td>0.6106</td>\n",
       "      <td>15754218.0</td>\n",
       "    </tr>\n",
       "  </tbody>\n",
       "</table>\n",
       "</div>"
      ],
      "text/plain": [
       "              Open    High     Low   Close  Adj Close      Volume\n",
       "Date                                                             \n",
       "2020-10-12  0.7090  0.7100  0.6500  0.6768     0.6768  48320475.0\n",
       "2020-10-13  0.6768  0.6768  0.6000  0.6006     0.6006  47786200.0\n",
       "2020-10-14  0.6010  0.6400  0.5962  0.6260     0.6260  37534949.0\n",
       "2020-10-15  0.6260  0.6260  0.5850  0.6050     0.6050  26737615.0\n",
       "2020-10-16  0.6050  0.6200  0.6010  0.6106     0.6106  15754218.0"
      ]
     },
     "execution_count": 3,
     "metadata": {},
     "output_type": "execute_result"
    }
   ],
   "source": [
    "df.replace(0, np.nan, inplace=True) #Replacing 0 with NaN\n",
    "df.dropna(inplace=True)  #Dropping all columns with NaN\n",
    "df.tail()\n"
   ]
  },
  {
   "cell_type": "code",
   "execution_count": 4,
   "metadata": {},
   "outputs": [
    {
     "data": {
      "text/plain": [
       "array([[   0],\n",
       "       [   1],\n",
       "       [   4],\n",
       "       ...,\n",
       "       [6145],\n",
       "       [6146],\n",
       "       [6147]], dtype=int64)"
      ]
     },
     "execution_count": 4,
     "metadata": {},
     "output_type": "execute_result"
    }
   ],
   "source": [
    "df['days_from_start'] = (df.index - df.index[0]).days\n",
    "X = df['days_from_start'].values.reshape(-1, 1)\n",
    "y = df['Close'].values\n",
    "X\n"
   ]
  },
  {
   "cell_type": "code",
   "execution_count": 5,
   "metadata": {},
   "outputs": [],
   "source": [
    "from sklearn.model_selection import train_test_split #Creating a train test split\n",
    "X_train, X_test, y_train, y_test = train_test_split(X, y, test_size=0.2, random_state=0)"
   ]
  },
  {
   "cell_type": "code",
   "execution_count": 6,
   "metadata": {},
   "outputs": [],
   "source": [
    "\n",
    "from sklearn import preprocessing\n",
    "# standardizing data\n",
    "scaler = preprocessing.StandardScaler().fit(X_train)\n",
    "X_train = scaler.transform(X_train)\n",
    "X_test=scaler.transform(X_test)\n"
   ]
  },
  {
   "cell_type": "code",
   "execution_count": 7,
   "metadata": {},
   "outputs": [
    {
     "data": {
      "text/plain": [
       "DecisionTreeRegressor(max_depth=100)"
      ]
     },
     "execution_count": 7,
     "metadata": {},
     "output_type": "execute_result"
    }
   ],
   "source": [
    "from sklearn.linear_model import LinearRegression\n",
    "regressor = LinearRegression()\n",
    "\n",
    "regressor.fit(X_train, y_train)  #Fits it with a linar regression\n",
    "\n",
    "from sklearn.linear_model import SGDRegressor\n",
    "# SkLearn SGD classifier\n",
    "sgd = SGDRegressor()\n",
    "sgd.fit(X_train, y_train)\n",
    "\n",
    "from sklearn.tree import DecisionTreeRegressor\n",
    "DTreeModel = DecisionTreeRegressor(max_depth=100)\n",
    "DTreeModel.fit(X_train,y_train)"
   ]
  },
  {
   "cell_type": "code",
   "execution_count": 8,
   "metadata": {},
   "outputs": [
    {
     "name": "stdout",
     "output_type": "stream",
     "text": [
      "LinearRegression intercept80.28803066101693\n",
      "LinearRegression coef[27.7529151]\n",
      "SGDRegression intercept[80.08333949]\n",
      "SGDRegression coef[27.98822597]\n"
     ]
    }
   ],
   "source": [
    "\n",
    "print(\"LinearRegression intercept\" +str(regressor.intercept_))\n",
    "print(\"LinearRegression coef\" +str(regressor.coef_))\n",
    "\n",
    "print(\"SGDRegression intercept\" +str(sgd.intercept_))\n",
    "print(\"SGDRegression coef\" +str(sgd.coef_))\n"
   ]
  },
  {
   "cell_type": "code",
   "execution_count": 9,
   "metadata": {},
   "outputs": [],
   "source": [
    "LR_pred = regressor.predict(X_test)\n",
    "SGD_pred = sgd.predict(X_test)\n",
    "Dtree_pred = DTreeModel.predict(X_test)\n"
   ]
  },
  {
   "cell_type": "code",
   "execution_count": 10,
   "metadata": {},
   "outputs": [
    {
     "name": "stdout",
     "output_type": "stream",
     "text": [
      "SGD Regressor\n",
      "Mean Squared Error : 2326.576640640902\n",
      "Mean Absolute Error : 36.4029114031529\n",
      "Score: 0.20315632423186714\n",
      "\n",
      "Linear Regressor\n",
      "Mean Absolute Error: 36.420276591070795\n",
      "Mean Squared Error: 2325.7962434978367\n",
      "Root Mean Squared Error: 48.22650975861551\n",
      "Score: 0.20342360729367415\n"
     ]
    }
   ],
   "source": [
    "from sklearn import metrics\n",
    "print(\"SGD Regressor\")\n",
    "print('Mean Squared Error :',metrics.mean_squared_error(y_test, sgd.predict(X_test)))\n",
    "print('Mean Absolute Error :',metrics.mean_absolute_error(y_test, sgd.predict(X_test)))\n",
    "print(\"Score:\", sgd.score(X_test, y_test))\n",
    "print(\"\\nLinear Regressor\")\n",
    "print('Mean Absolute Error:', metrics.mean_absolute_error(y_test, LR_pred))\n",
    "print('Mean Squared Error:', metrics.mean_squared_error(y_test, LR_pred))\n",
    "print('Root Mean Squared Error:', np.sqrt(metrics.mean_squared_error(y_test, LR_pred)))\n",
    "print(\"Score:\", regressor.score(X_test, y_test))"
   ]
  },
  {
   "cell_type": "code",
   "execution_count": 11,
   "metadata": {},
   "outputs": [],
   "source": [
    "from sklearn import metrics\n",
    "def ModelScoring(name, model): #pass the name of the model, and the model itself\n",
    "    print(name)\n",
    "    print('Mean Squared Error :',metrics.mean_squared_error(y_test, model.predict(X_test)))\n",
    "    print('Mean Absolute Error :',metrics.mean_absolute_error(y_test, model.predict(X_test)))\n",
    "    print('Root Mean Squared Error:', np.sqrt(metrics.mean_squared_error(y_test, model.predict(X_test))))\n",
    "    print(\"Score:\", model.score(X_test, y_test))\n",
    "    print()"
   ]
  },
  {
   "cell_type": "code",
   "execution_count": 12,
   "metadata": {},
   "outputs": [
    {
     "name": "stdout",
     "output_type": "stream",
     "text": [
      "SGD Regressor\n",
      "Mean Squared Error : 2326.576640640902\n",
      "Mean Absolute Error : 36.4029114031529\n",
      "Root Mean Squared Error: 48.23460003608304\n",
      "Score: 0.20315632423186714\n",
      "\n",
      "Linear Regressor\n",
      "Mean Squared Error : 2325.7962434978367\n",
      "Mean Absolute Error : 36.420276591070795\n",
      "Root Mean Squared Error: 48.22650975861551\n",
      "Score: 0.20342360729367415\n",
      "\n",
      "Decision Tree Regressor\n",
      "Mean Squared Error : 10.493652677901277\n",
      "Mean Absolute Error : 1.7428265648038046\n",
      "Root Mean Squared Error: 3.239390788080573\n",
      "Score: 0.9964059637554903\n",
      "\n"
     ]
    }
   ],
   "source": [
    "ModelScoring(\"SGD Regressor\", sgd)\n",
    "ModelScoring(\"Linear Regressor\", regressor)\n",
    "ModelScoring(\"Decision Tree Regressor\", DTreeModel)"
   ]
  },
  {
   "cell_type": "code",
   "execution_count": 13,
   "metadata": {},
   "outputs": [
    {
     "ename": "NameError",
     "evalue": "name 'Index' is not defined",
     "output_type": "error",
     "traceback": [
      "\u001b[1;31m---------------------------------------------------------------------------\u001b[0m",
      "\u001b[1;31mNameError\u001b[0m                                 Traceback (most recent call last)",
      "\u001b[1;32m<ipython-input-13-3c7957a5c4a6>\u001b[0m in \u001b[0;36m<module>\u001b[1;34m\u001b[0m\n\u001b[0;32m      1\u001b[0m \u001b[0mdf2\u001b[0m \u001b[1;33m=\u001b[0m \u001b[0mpd\u001b[0m\u001b[1;33m.\u001b[0m\u001b[0mDataFrame\u001b[0m\u001b[1;33m(\u001b[0m\u001b[1;33m{\u001b[0m\u001b[1;34m'Actual'\u001b[0m\u001b[1;33m:\u001b[0m \u001b[0my_test\u001b[0m\u001b[1;33m,\u001b[0m \u001b[1;34m'SGD'\u001b[0m\u001b[1;33m:\u001b[0m \u001b[0mDtree_pred\u001b[0m\u001b[1;33m}\u001b[0m\u001b[1;33m)\u001b[0m\u001b[1;33m\u001b[0m\u001b[1;33m\u001b[0m\u001b[0m\n\u001b[1;32m----> 2\u001b[1;33m \u001b[0mdf2\u001b[0m\u001b[1;33m.\u001b[0m\u001b[0msort_values\u001b[0m\u001b[1;33m(\u001b[0m\u001b[0mby\u001b[0m\u001b[1;33m=\u001b[0m\u001b[0mIndex\u001b[0m\u001b[1;33m,\u001b[0m\u001b[0minplace\u001b[0m\u001b[1;33m=\u001b[0m\u001b[1;32mTrue\u001b[0m\u001b[1;33m)\u001b[0m\u001b[1;33m\u001b[0m\u001b[1;33m\u001b[0m\u001b[0m\n\u001b[0m",
      "\u001b[1;31mNameError\u001b[0m: name 'Index' is not defined"
     ]
    }
   ],
   "source": [
    "df2 = pd.DataFrame({'Actual': y_test, 'SGD': Dtree_pred})\n",
    "df2.sort_values(by=Index,inplace=True) "
   ]
  },
  {
   "cell_type": "code",
   "execution_count": null,
   "metadata": {},
   "outputs": [],
   "source": []
  },
  {
   "cell_type": "code",
   "execution_count": null,
   "metadata": {},
   "outputs": [],
   "source": [
    "df2['Actual'].plot(figsize=(26,10))\n",
    "#df2['SGD'].plot(figsize=(26,10))\n"
   ]
  },
  {
   "cell_type": "code",
   "execution_count": null,
   "metadata": {},
   "outputs": [],
   "source": [
    "diffSGD_LR = df2['SGD']/df2['LR']\n",
    "diffSGD_LR.plot(figsize=(26,10))"
   ]
  },
  {
   "cell_type": "code",
   "execution_count": null,
   "metadata": {},
   "outputs": [],
   "source": [
    "diffAct_LR = df2['Actual']/df2['LR']\n",
    "diffAct_SGD = df2['Actual']/df2['SGD']\n",
    "\n",
    "meanVal = (df2['LR']+df2['SGD'])/2\n",
    "diffMeanAct = df2['Actual']/meanVal\n"
   ]
  },
  {
   "cell_type": "code",
   "execution_count": null,
   "metadata": {},
   "outputs": [],
   "source": [
    "import matplotlib.pyplot as plt\n",
    "\n",
    "fig, axes = plt.subplots(nrows=2, ncols=2)\n",
    "\n",
    "diffAct_SGD.plot(figsize=(26,10), color = \"Red\", ax=axes[0,0])\n",
    "diffAct_LR.plot(figsize=(26,10), ax=axes[0,1])\n",
    "diffMeanAct.plot(figsize=(26,10), ax=axes[1,0])\n",
    "df2['Actual'].plot(figsize=(26,10), ax=axes[1,1])"
   ]
  },
  {
   "cell_type": "markdown",
   "metadata": {},
   "source": [
    "## Predict todays closing price by giving todays opening price"
   ]
  },
  {
   "cell_type": "code",
   "execution_count": 22,
   "metadata": {},
   "outputs": [
    {
     "name": "stdout",
     "output_type": "stream",
     "text": [
      "2020-10-24 00:00:00\n",
      "6155\n",
      "2020-10-25 00:00:00\n",
      "6156\n"
     ]
    }
   ],
   "source": [
    "#converts any inserted date into a number relative to the index of the first data point \n",
    "def convertDate(date):\n",
    "    date = pd.Timestamp(date)\n",
    "    print(date)\n",
    "    return (date - df.index[0]).days\n",
    "\n",
    "print(convertDate('2020-10-24'))\n",
    "\n",
    "#fetches today's date\n",
    "def fetchToday():\n",
    "    return pd.Timestamp.today().floor('D')\n",
    "\n",
    "print(convertDate(fetchToday()))"
   ]
  },
  {
   "cell_type": "code",
   "execution_count": null,
   "metadata": {},
   "outputs": [],
   "source": [
    "#predicts the price according to the selected algorithm\n",
    "def predictPrice(opening, algorithm):\n",
    "    prediction = algorithm.predict(opening)\n",
    "    return prediction"
   ]
  },
  {
   "cell_type": "code",
   "execution_count": null,
   "metadata": {},
   "outputs": [],
   "source": [
    "from pandas import DataFrame\n",
    "#from statistics import mean\n",
    "\n",
    "def assessDifference(opening, *argv, closing): #The args are the prediction algorithms you want to test on\n",
    "    opPrice=pd.DataFrame([[opening]])\n",
    "    opPrice=scaler.transform(opPrice)\n",
    "    i=0\n",
    "    predList = []\n",
    "    for model in argv:\n",
    "        prediction = predictPrice(opPrice, model)\n",
    "        print(\"Model \" +str(model) + \": \"+ str(prediction), end=\" \")\n",
    "        predList.append(prediction)\n",
    "        print(f'The prediction is off by {float(closing-prediction)} NOK')\n",
    "        i+=1\n",
    "    \n",
    "    print(f'The mean of the models is {float(findMean(predList))} NOK')\n",
    "\n",
    "    print(f'The mean of the models are off by {findMeanDifference(closing, predList)} NOK')\n",
    "\n",
    "def findMean(predictionList):\n",
    "    return sum(predictionList)/len(predictionList)\n",
    "    \n",
    "def findMeanDifference(closing, predictionList):\n",
    "    return float(closing-findMean(predictionList))\n",
    "\n",
    "        "
   ]
  },
  {
   "cell_type": "code",
   "execution_count": null,
   "metadata": {},
   "outputs": [],
   "source": [
    "list = assessDifference(0.7090, regressor, sgd, DTreeModel, closing=0.6768)"
   ]
  },
  {
   "cell_type": "code",
   "execution_count": null,
   "metadata": {},
   "outputs": [],
   "source": [
    "assessDifference(6150, regressor, sgd, DTreeModel, closing=0.6722)"
   ]
  },
  {
   "cell_type": "markdown",
   "metadata": {},
   "source": [
    "## Calculating accuracy"
   ]
  },
  {
   "cell_type": "markdown",
   "metadata": {},
   "source": [
    "How percentually correct is the prediction."
   ]
  },
  {
   "cell_type": "code",
   "execution_count": null,
   "metadata": {},
   "outputs": [],
   "source": [
    "(actual-predicted)/actual * 100"
   ]
  },
  {
   "cell_type": "markdown",
   "metadata": {},
   "source": [
    "How often does it correctly asess whether the price will go up or down by closing time, in comparison to the opening time."
   ]
  },
  {
   "cell_type": "code",
   "execution_count": null,
   "metadata": {},
   "outputs": [],
   "source": [
    "total = 0\n",
    "correct = 0\n",
    "for x : df\n",
    "    \n",
    "    if y > x && \n"
   ]
  }
 ],
 "metadata": {
  "kernelspec": {
   "display_name": "Python 3",
   "language": "python",
   "name": "python3"
  },
  "language_info": {
   "codemirror_mode": {
    "name": "ipython",
    "version": 3
   },
   "file_extension": ".py",
   "mimetype": "text/x-python",
   "name": "python",
   "nbconvert_exporter": "python",
   "pygments_lexer": "ipython3",
   "version": "3.8.3"
  }
 },
 "nbformat": 4,
 "nbformat_minor": 4
}
