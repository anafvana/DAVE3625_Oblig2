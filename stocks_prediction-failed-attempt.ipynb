{
 "cells": [
  {
   "cell_type": "markdown",
   "metadata": {},
   "source": [
    "# Implementing all models \n"
   ]
  },
  {
   "cell_type": "markdown",
   "metadata": {},
   "source": [
    "Based on: https://medium.com/datadriveninvestor/predicting-stock-prices-comparison-of-different-algorithms-ab2b8fd42514 and not working"
   ]
  },
  {
   "cell_type": "code",
   "execution_count": 1,
   "metadata": {},
   "outputs": [],
   "source": [
    "import pandas as pd\n",
    "import sklearn\n",
    "import matplotlib.pyplot as plt\n",
    "import numpy as np\n",
    "from pandas import DataFrame\n",
    "from sklearn.model_selection import train_test_split\n",
    "from sklearn import preprocessing\n",
    "from sklearn.linear_model import LinearRegression\n",
    "from sklearn.linear_model import SGDRegressor\n",
    "from sklearn.tree import DecisionTreeRegressor\n",
    "from sklearn import metrics"
   ]
  },
  {
   "cell_type": "code",
   "execution_count": 2,
   "metadata": {},
   "outputs": [],
   "source": [
    "df = pd.read_csv(\"NAS.csv\")                         #Read the csv\n",
    "df.iloc[:, 0]= pd.to_datetime(df.iloc[:, 0])        #Convert date to datetime  \n",
    "df.set_index('Date',inplace=True)                   #Setting date as index"
   ]
  },
  {
   "cell_type": "code",
   "execution_count": 3,
   "metadata": {},
   "outputs": [],
   "source": [
    "df.replace(0, np.nan, inplace=True) #Replacing 0 with NaN\n",
    "df.dropna(inplace=True)  #Dropping all columns with NaN"
   ]
  },
  {
   "cell_type": "code",
   "execution_count": 4,
   "metadata": {},
   "outputs": [
    {
     "data": {
      "text/html": [
       "<div>\n",
       "<style scoped>\n",
       "    .dataframe tbody tr th:only-of-type {\n",
       "        vertical-align: middle;\n",
       "    }\n",
       "\n",
       "    .dataframe tbody tr th {\n",
       "        vertical-align: top;\n",
       "    }\n",
       "\n",
       "    .dataframe thead th {\n",
       "        text-align: right;\n",
       "    }\n",
       "</style>\n",
       "<table border=\"1\" class=\"dataframe\">\n",
       "  <thead>\n",
       "    <tr style=\"text-align: right;\">\n",
       "      <th></th>\n",
       "      <th>Open</th>\n",
       "      <th>High</th>\n",
       "      <th>Low</th>\n",
       "      <th>Close</th>\n",
       "      <th>Adj Close</th>\n",
       "      <th>Volume</th>\n",
       "      <th>days_from_start</th>\n",
       "    </tr>\n",
       "    <tr>\n",
       "      <th>Date</th>\n",
       "      <th></th>\n",
       "      <th></th>\n",
       "      <th></th>\n",
       "      <th></th>\n",
       "      <th></th>\n",
       "      <th></th>\n",
       "      <th></th>\n",
       "    </tr>\n",
       "  </thead>\n",
       "  <tbody>\n",
       "    <tr>\n",
       "      <th>2003-12-18</th>\n",
       "      <td>19.482599</td>\n",
       "      <td>19.596901</td>\n",
       "      <td>19.025499</td>\n",
       "      <td>19.139799</td>\n",
       "      <td>19.139799</td>\n",
       "      <td>4978496.0</td>\n",
       "      <td>0</td>\n",
       "    </tr>\n",
       "    <tr>\n",
       "      <th>2003-12-19</th>\n",
       "      <td>19.368299</td>\n",
       "      <td>19.425501</td>\n",
       "      <td>18.282801</td>\n",
       "      <td>18.454201</td>\n",
       "      <td>18.454201</td>\n",
       "      <td>1410901.0</td>\n",
       "      <td>1</td>\n",
       "    </tr>\n",
       "    <tr>\n",
       "      <th>2003-12-22</th>\n",
       "      <td>18.739901</td>\n",
       "      <td>18.739901</td>\n",
       "      <td>17.997101</td>\n",
       "      <td>18.054300</td>\n",
       "      <td>18.054300</td>\n",
       "      <td>137047.0</td>\n",
       "      <td>4</td>\n",
       "    </tr>\n",
       "    <tr>\n",
       "      <th>2003-12-23</th>\n",
       "      <td>17.997101</td>\n",
       "      <td>17.997101</td>\n",
       "      <td>17.368700</td>\n",
       "      <td>17.425800</td>\n",
       "      <td>17.425800</td>\n",
       "      <td>229418.0</td>\n",
       "      <td>5</td>\n",
       "    </tr>\n",
       "    <tr>\n",
       "      <th>2003-12-29</th>\n",
       "      <td>17.425800</td>\n",
       "      <td>17.425800</td>\n",
       "      <td>16.854500</td>\n",
       "      <td>17.254400</td>\n",
       "      <td>17.254400</td>\n",
       "      <td>196206.0</td>\n",
       "      <td>11</td>\n",
       "    </tr>\n",
       "  </tbody>\n",
       "</table>\n",
       "</div>"
      ],
      "text/plain": [
       "                 Open       High        Low      Close  Adj Close     Volume  \\\n",
       "Date                                                                           \n",
       "2003-12-18  19.482599  19.596901  19.025499  19.139799  19.139799  4978496.0   \n",
       "2003-12-19  19.368299  19.425501  18.282801  18.454201  18.454201  1410901.0   \n",
       "2003-12-22  18.739901  18.739901  17.997101  18.054300  18.054300   137047.0   \n",
       "2003-12-23  17.997101  17.997101  17.368700  17.425800  17.425800   229418.0   \n",
       "2003-12-29  17.425800  17.425800  16.854500  17.254400  17.254400   196206.0   \n",
       "\n",
       "            days_from_start  \n",
       "Date                         \n",
       "2003-12-18                0  \n",
       "2003-12-19                1  \n",
       "2003-12-22                4  \n",
       "2003-12-23                5  \n",
       "2003-12-29               11  "
      ]
     },
     "execution_count": 4,
     "metadata": {},
     "output_type": "execute_result"
    }
   ],
   "source": [
    "#plot all days from -1 to 1 in relation to how many days have passed since the first day in the data frame\n",
    "df['days_from_start'] = (df.index - df.index[0]).days\n",
    "#x = df['days_from_start'].values.reshape(-1, 1)\n",
    "#y = df['Close'].values\n",
    "rows = df.values.tolist()\n",
    "rows.reverse()\n",
    "\n",
    "df.head()"
   ]
  },
  {
   "cell_type": "code",
   "execution_count": 5,
   "metadata": {},
   "outputs": [],
   "source": [
    "#converts any inserted date into a number relative to the index of the first data point \n",
    "def convertDate(date):                               #insert date as 'YYYY-MM-DD'\n",
    "    date = pd.Timestamp(date)\n",
    "    return (date - df.index[0]).days\n",
    "\n",
    "#example:\n",
    "#print(convertDate('2020-10-24'))"
   ]
  },
  {
   "cell_type": "code",
   "execution_count": 6,
   "metadata": {},
   "outputs": [],
   "source": [
    "def fetchToday():                                    #fetch today's date\n",
    "    return pd.Timestamp.today().floor('D').date()"
   ]
  },
  {
   "cell_type": "code",
   "execution_count": 7,
   "metadata": {},
   "outputs": [],
   "source": [
    "X = []\n",
    "Y = []\n",
    "\n",
    "for row in rows:\n",
    "    X.append(row[6])\n",
    "    Y.append(row[3])\n",
    "\n",
    "#Creating a train test split\n",
    "x_train, x_test, y_train, y_test = train_test_split(X, Y, test_size=0.2, random_state=0)\n",
    "\n",
    "x_train = np.array(x_train)\n",
    "y_train = np.array(y_train)\n",
    "x_test = np.array(x_test)\n",
    "y_test = np.array(y_test)"
   ]
  },
  {
   "cell_type": "code",
   "execution_count": 8,
   "metadata": {},
   "outputs": [],
   "source": [
    "#reshaping the values into a range of -1 to 1\n",
    "x_train = x_train.reshape(-1,1)\n",
    "x_test = x_test.reshape(-1,1)\n",
    "scaler = preprocessing.StandardScaler().fit(x_train)"
   ]
  },
  {
   "cell_type": "markdown",
   "metadata": {},
   "source": [
    "Here we trained and tested different algorithms (Linear Regression, SGD and Decision Tree Regression) to establish which had better results."
   ]
  },
  {
   "cell_type": "code",
   "execution_count": 9,
   "metadata": {},
   "outputs": [
    {
     "data": {
      "text/plain": [
       "DecisionTreeRegressor(max_depth=500)"
      ]
     },
     "execution_count": 9,
     "metadata": {},
     "output_type": "execute_result"
    }
   ],
   "source": [
    "#Training the 3 models\n",
    "\n",
    "#Linear Regression\n",
    "regressor = LinearRegression()\n",
    "regressor.fit(x_train, y_train)  #Fits it with a linar regression\n",
    "\n",
    "#SGD Regression\n",
    "sgd = SGDRegressor()\n",
    "sgd.fit(x_train, y_train)\n",
    "\n",
    "#Decision Tree Regression\n",
    "DTreeModel = DecisionTreeRegressor(max_depth=500)\n",
    "DTreeModel.fit(x_train,y_train)"
   ]
  },
  {
   "cell_type": "code",
   "execution_count": 10,
   "metadata": {},
   "outputs": [],
   "source": [
    "#test all 3 models\n",
    "LR_pred = regressor.predict(x_test)\n",
    "SGD_pred = sgd.predict(x_test)\n",
    "Dtree_pred = DTreeModel.predict(x_test)\n",
    "\n",
    "from sklearn.ensemble import RandomForestRegressor\n",
    "randomForest = RandomForestRegressor(n_estimators=100)\n",
    "randomForest.fit(x_train,y_train)\n",
    "y_pred_rf = randomForest.predict(x_test)"
   ]
  },
  {
   "cell_type": "markdown",
   "metadata": {},
   "source": [
    "## Testing Prediction Percentage Score"
   ]
  },
  {
   "cell_type": "code",
   "execution_count": 11,
   "metadata": {},
   "outputs": [],
   "source": [
    "#gives out information about each model\n",
    "def ModelScoring(name, model): #pass the name of the model, and the model itself\n",
    "    print(name)\n",
    "    print('Mean Squared Error :',metrics.mean_squared_error(y_test, model.predict(x_test)))\n",
    "    print('Mean Absolute Error :',metrics.mean_absolute_error(y_test, model.predict(x_test)))\n",
    "    print('Root Mean Squared Error:', np.sqrt(metrics.mean_squared_error(y_test, model.predict(x_test))))\n",
    "    print(\"Score:\", model.score(x_test, y_test))\n",
    "    print()"
   ]
  },
  {
   "cell_type": "code",
   "execution_count": 12,
   "metadata": {},
   "outputs": [
    {
     "name": "stdout",
     "output_type": "stream",
     "text": [
      "SGD Regressor\n",
      "Mean Squared Error : 8.857966830767595e+28\n",
      "Mean Absolute Error : 257520706217642.2\n",
      "Root Mean Squared Error: 297623366535082.3\n",
      "Score: -2.8403399492041143e+25\n",
      "\n",
      "Linear Regressor\n",
      "Mean Squared Error : 2307.295509927588\n",
      "Mean Absolute Error : 36.4964314052148\n",
      "Root Mean Squared Error: 48.034315961899445\n",
      "Score: 0.2601571289809508\n",
      "\n",
      "Decision Tree Regressor\n",
      "Mean Squared Error : 7.030950617524125\n",
      "Mean Absolute Error : 1.6325682794292504\n",
      "Root Mean Squared Error: 2.651593976747595\n",
      "Score: 0.9977454995823116\n",
      "\n",
      "Random Forest Regressor\n",
      "Mean Squared Error : 5.790011905984504\n",
      "Mean Absolute Error : 1.457098274827589\n",
      "Root Mean Squared Error: 2.4062443570810723\n",
      "Score: 0.9981434111871121\n",
      "\n"
     ]
    }
   ],
   "source": [
    "ModelScoring(\"SGD Regressor\", sgd)\n",
    "ModelScoring(\"Linear Regressor\", regressor)\n",
    "ModelScoring(\"Decision Tree Regressor\", DTreeModel)\n",
    "ModelScoring(\"Random Forest Regressor\", randomForest)"
   ]
  },
  {
   "cell_type": "markdown",
   "metadata": {},
   "source": [
    "Here we see that the Decision Tree Regressor has the highest score by far.\n",
    "We therefore chose it as the algorithm for the rest of the assignment."
   ]
  },
  {
   "cell_type": "code",
   "execution_count": 13,
   "metadata": {},
   "outputs": [
    {
     "data": {
      "text/plain": [
       "<matplotlib.axes._subplots.AxesSubplot at 0x2ab826f44f0>"
      ]
     },
     "execution_count": 13,
     "metadata": {},
     "output_type": "execute_result"
    },
    {
     "data": {
      "image/png": "[encoded data removed]",
      "text/plain": [
       "<Figure size 1872x720 with 1 Axes>"
      ]
     },
     "metadata": {
      "needs_background": "light"
     },
     "output_type": "display_data"
    }
   ],
   "source": [
    "#Mapping to plot\n",
    "df2 = pd.DataFrame({'Actual': y_test, 'Predicted': y_pred_rf})\n",
    "df2.plot.scatter(['Actual'],['Predicted'],figsize=(26,10))"
   ]
  },
  {
   "cell_type": "markdown",
   "metadata": {},
   "source": [
    "## Predict todays closing price by giving todays opening price"
   ]
  },
  {
   "cell_type": "code",
   "execution_count": 14,
   "metadata": {},
   "outputs": [],
   "source": [
    "#normalizes date that is inserted so that it fits into the -1 to 1 scale\n",
    "def normalizeData(date):\n",
    "    outDate=pd.DataFrame([[date]])\n",
    "    outDate=scaler.transform(outDate)\n",
    "    return outDate"
   ]
  },
  {
   "cell_type": "code",
   "execution_count": 15,
   "metadata": {},
   "outputs": [],
   "source": [
    "#predicts the price according to the selected algorithm \n",
    "#(allows for selection; purposeful decision to allow method to be generic)\n",
    "def predictPrice(date, algorithm):\n",
    "    date=normalizeData(date)\n",
    "    prediction = algorithm.predict(date)\n",
    "    return prediction"
   ]
  },
  {
   "cell_type": "code",
   "execution_count": 16,
   "metadata": {},
   "outputs": [],
   "source": [
    "#calculates the difference between the result(s) of the selected model(s) and the real closing price \n",
    "def assessDifference(date, *argv, closing): #The args are the prediction algorithms you want to test on   \n",
    "    i=0\n",
    "    predList = []\n",
    "    for model in argv:\n",
    "        prediction = predictPrice(date, model)\n",
    "        print(\"Model \" +str(model) + \": \")\n",
    "        print(f'The predicted closing value is {str(float(prediction))} NOK')\n",
    "        print\n",
    "        predList.append(prediction)\n",
    "        print(f'The prediction is off by {float(closing-prediction)} NOK')\n",
    "        print(f'The prediction is off by {float((closing-prediction)*100/closing)}%')\n",
    "        i+=1\n",
    "    \n",
    "    #if testing multiple models\n",
    "    if i>1:\n",
    "        print(f'The mean of the models is {float(findMean(predList))} NOK')\n",
    "        print(f'The mean of the models is off by {findMeanDifference(closing, predList)} NOK')\n",
    "        print(f'The mean of the models is off by {float((closing-findMeanDifference(closing, predList))*100/closing)}%')       "
   ]
  },
  {
   "cell_type": "code",
   "execution_count": 17,
   "metadata": {},
   "outputs": [],
   "source": [
    "def findMean(predictionList):\n",
    "    return sum(predictionList)/len(predictionList)"
   ]
  },
  {
   "cell_type": "code",
   "execution_count": 18,
   "metadata": {},
   "outputs": [],
   "source": [
    "def findMeanDifference(closing, predictionList):\n",
    "    return float(closing-findMean(predictionList))"
   ]
  },
  {
   "cell_type": "code",
   "execution_count": 23,
   "metadata": {},
   "outputs": [
    {
     "name": "stdout",
     "output_type": "stream",
     "text": [
      "Model RandomForestRegressor(): \n",
      "The predicted closing value is 18.21424861000001 NOK\n",
      "The prediction is off by 18.705751389999993 NOK\n",
      "The prediction is off by 50.66563215059586%\n"
     ]
    }
   ],
   "source": [
    "#demonstrates assessDifference for a date where data is available\n",
    "assessDifference(convertDate('2020-09-19'), randomForest, closing=36.9200)"
   ]
  },
  {
   "cell_type": "code",
   "execution_count": 20,
   "metadata": {},
   "outputs": [],
   "source": [
    "def predictedAndReal(date):\n",
    "    predict = predictPrice(convertDate(date), y_pred_rf)\n",
    "    print(f'The predicted price on {date} is {float(predict)} NOK')\n",
    "    try:\n",
    "        result = df.loc[date]\n",
    "        print(f'The real price on {date} was {float(result[\"Close\"])} NOK')\n",
    "    except KeyError:\n",
    "        print(f\"The dataset doesn't have data for {date}\")\n",
    "    except:\n",
    "        pass"
   ]
  },
  {
   "cell_type": "markdown",
   "metadata": {},
   "source": [
    "## Find today's prediction"
   ]
  },
  {
   "cell_type": "code",
   "execution_count": 21,
   "metadata": {},
   "outputs": [
    {
     "ename": "AttributeError",
     "evalue": "'numpy.ndarray' object has no attribute 'predict'",
     "output_type": "error",
     "traceback": [
      "\u001b[1;31m---------------------------------------------------------------------------\u001b[0m",
      "\u001b[1;31mAttributeError\u001b[0m                            Traceback (most recent call last)",
      "\u001b[1;32m<ipython-input-21-63fd1121f680>\u001b[0m in \u001b[0;36m<module>\u001b[1;34m\u001b[0m\n\u001b[1;32m----> 1\u001b[1;33m \u001b[0mpredictedAndReal\u001b[0m\u001b[1;33m(\u001b[0m\u001b[0mfetchToday\u001b[0m\u001b[1;33m(\u001b[0m\u001b[1;33m)\u001b[0m\u001b[1;33m)\u001b[0m\u001b[1;33m\u001b[0m\u001b[1;33m\u001b[0m\u001b[0m\n\u001b[0m\u001b[0;32m      2\u001b[0m \u001b[0mpredictedAndReal\u001b[0m\u001b[1;33m(\u001b[0m\u001b[1;34m'2004-1-10'\u001b[0m\u001b[1;33m)\u001b[0m\u001b[1;33m\u001b[0m\u001b[1;33m\u001b[0m\u001b[0m\n",
      "\u001b[1;32m<ipython-input-20-8e3c222e4b9c>\u001b[0m in \u001b[0;36mpredictedAndReal\u001b[1;34m(date)\u001b[0m\n\u001b[0;32m      1\u001b[0m \u001b[1;32mdef\u001b[0m \u001b[0mpredictedAndReal\u001b[0m\u001b[1;33m(\u001b[0m\u001b[0mdate\u001b[0m\u001b[1;33m)\u001b[0m\u001b[1;33m:\u001b[0m\u001b[1;33m\u001b[0m\u001b[1;33m\u001b[0m\u001b[0m\n\u001b[1;32m----> 2\u001b[1;33m     \u001b[0mpredict\u001b[0m \u001b[1;33m=\u001b[0m \u001b[0mpredictPrice\u001b[0m\u001b[1;33m(\u001b[0m\u001b[0mconvertDate\u001b[0m\u001b[1;33m(\u001b[0m\u001b[0mdate\u001b[0m\u001b[1;33m)\u001b[0m\u001b[1;33m,\u001b[0m \u001b[0my_pred_rf\u001b[0m\u001b[1;33m)\u001b[0m\u001b[1;33m\u001b[0m\u001b[1;33m\u001b[0m\u001b[0m\n\u001b[0m\u001b[0;32m      3\u001b[0m     \u001b[0mprint\u001b[0m\u001b[1;33m(\u001b[0m\u001b[1;34mf'The predicted price on {date} is {float(predict)} NOK'\u001b[0m\u001b[1;33m)\u001b[0m\u001b[1;33m\u001b[0m\u001b[1;33m\u001b[0m\u001b[0m\n\u001b[0;32m      4\u001b[0m     \u001b[1;32mtry\u001b[0m\u001b[1;33m:\u001b[0m\u001b[1;33m\u001b[0m\u001b[1;33m\u001b[0m\u001b[0m\n\u001b[0;32m      5\u001b[0m         \u001b[0mresult\u001b[0m \u001b[1;33m=\u001b[0m \u001b[0mdf\u001b[0m\u001b[1;33m.\u001b[0m\u001b[0mloc\u001b[0m\u001b[1;33m[\u001b[0m\u001b[0mdate\u001b[0m\u001b[1;33m]\u001b[0m\u001b[1;33m\u001b[0m\u001b[1;33m\u001b[0m\u001b[0m\n",
      "\u001b[1;32m<ipython-input-15-f9fd70310362>\u001b[0m in \u001b[0;36mpredictPrice\u001b[1;34m(date, algorithm)\u001b[0m\n\u001b[0;32m      3\u001b[0m \u001b[1;32mdef\u001b[0m \u001b[0mpredictPrice\u001b[0m\u001b[1;33m(\u001b[0m\u001b[0mdate\u001b[0m\u001b[1;33m,\u001b[0m \u001b[0malgorithm\u001b[0m\u001b[1;33m)\u001b[0m\u001b[1;33m:\u001b[0m\u001b[1;33m\u001b[0m\u001b[1;33m\u001b[0m\u001b[0m\n\u001b[0;32m      4\u001b[0m     \u001b[0mdate\u001b[0m\u001b[1;33m=\u001b[0m\u001b[0mnormalizeData\u001b[0m\u001b[1;33m(\u001b[0m\u001b[0mdate\u001b[0m\u001b[1;33m)\u001b[0m\u001b[1;33m\u001b[0m\u001b[1;33m\u001b[0m\u001b[0m\n\u001b[1;32m----> 5\u001b[1;33m     \u001b[0mprediction\u001b[0m \u001b[1;33m=\u001b[0m \u001b[0malgorithm\u001b[0m\u001b[1;33m.\u001b[0m\u001b[0mpredict\u001b[0m\u001b[1;33m(\u001b[0m\u001b[0mdate\u001b[0m\u001b[1;33m)\u001b[0m\u001b[1;33m\u001b[0m\u001b[1;33m\u001b[0m\u001b[0m\n\u001b[0m\u001b[0;32m      6\u001b[0m     \u001b[1;32mreturn\u001b[0m \u001b[0mprediction\u001b[0m\u001b[1;33m\u001b[0m\u001b[1;33m\u001b[0m\u001b[0m\n",
      "\u001b[1;31mAttributeError\u001b[0m: 'numpy.ndarray' object has no attribute 'predict'"
     ]
    }
   ],
   "source": [
    "predictedAndReal(fetchToday())\n",
    "predictedAndReal('2004-1-10')"
   ]
  }
 ],
 "metadata": {
  "kernelspec": {
   "display_name": "Python 3",
   "language": "python",
   "name": "python3"
  },
  "language_info": {
   "codemirror_mode": {
    "name": "ipython",
    "version": 3
   },
   "file_extension": ".py",
   "mimetype": "text/x-python",
   "name": "python",
   "nbconvert_exporter": "python",
   "pygments_lexer": "ipython3",
   "version": "3.8.3"
  }
 },
 "nbformat": 4,
 "nbformat_minor": 4
}
