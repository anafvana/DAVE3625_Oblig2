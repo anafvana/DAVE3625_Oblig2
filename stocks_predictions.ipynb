{
 "cells": [
  {
   "cell_type": "markdown",
   "metadata": {},
   "source": [
    "Ana Flávia Vital - s340046;\n",
    "\n",
    "Haakon Bernhard Molvig - s306458; \n",
    "\n",
    "\n",
    "Theo Alexander Sperre Olsen - s350233"
   ]
  },
  {
   "cell_type": "markdown",
   "metadata": {},
   "source": [
    "# Implementing all models \n"
   ]
  },
  {
   "cell_type": "code",
   "execution_count": 1,
   "metadata": {},
   "outputs": [],
   "source": [
    "import pandas as pd\n",
    "import sklearn\n",
    "import numpy as np\n",
    "import matplotlib.pyplot as plt\n",
    "from pandas import DataFrame\n",
    "from sklearn import metrics\n",
    "from sklearn import preprocessing\n",
    "from sklearn.model_selection import train_test_split\n",
    "from sklearn.linear_model import LinearRegression\n",
    "from sklearn.linear_model import SGDRegressor\n",
    "from sklearn.ensemble import RandomForestRegressor \n",
    "from sklearn.tree import DecisionTreeRegressor\n",
    "from matplotlib.pyplot import figure"
   ]
  },
  {
   "cell_type": "code",
   "execution_count": 2,
   "metadata": {},
   "outputs": [],
   "source": [
    "df = pd.read_csv(\"NAS.csv\")                         #Read the csv\n",
    "df.iloc[:, 0]= pd.to_datetime(df.iloc[:, 0])        #Convert date to datetime  \n",
    "df.set_index('Date',inplace=True)                   #Setting date as index"
   ]
  },
  {
   "cell_type": "code",
   "execution_count": 3,
   "metadata": {},
   "outputs": [],
   "source": [
    "df.replace(0, np.nan, inplace=True) #Replacing 0 with NaN\n",
    "df.dropna(inplace=True)  #Dropping all columns with NaN"
   ]
  },
  {
   "cell_type": "code",
   "execution_count": 4,
   "metadata": {},
   "outputs": [],
   "source": [
    "#plot all days from -1 to 1 in relation to how many days have passed since the first day in the data frame\n",
    "df['days_from_start'] = (df.index - df.index[0]).days\n",
    "X = df['days_from_start'].values.reshape(-1, 1)\n",
    "y = df['Close'].values"
   ]
  },
  {
   "cell_type": "code",
   "execution_count": 5,
   "metadata": {},
   "outputs": [],
   "source": [
    "#converts any inserted date into a number relative to the index of the first data point \n",
    "def convertDate(date):                               #insert date as 'YYYY-MM-DD'\n",
    "    date = pd.Timestamp(date)\n",
    "    return (date - df.index[0]).days\n",
    "\n",
    "#example:\n",
    "#print(convertDate('2020-10-24'))"
   ]
  },
  {
   "cell_type": "code",
   "execution_count": 6,
   "metadata": {},
   "outputs": [],
   "source": [
    "def fetchToday():                                    #fetch today's date\n",
    "    return pd.Timestamp.today().floor('D').date()"
   ]
  },
  {
   "cell_type": "code",
   "execution_count": 7,
   "metadata": {},
   "outputs": [],
   "source": [
    "#Creating a train test split\n",
    "X_train, X_test, y_train, y_test = train_test_split(X, y, test_size=0.2, random_state=0)"
   ]
  },
  {
   "cell_type": "code",
   "execution_count": 8,
   "metadata": {},
   "outputs": [],
   "source": [
    "# standardizing data\n",
    "scaler = preprocessing.StandardScaler().fit(X_train)\n",
    "X_train = scaler.transform(X_train)\n",
    "X_test=scaler.transform(X_test)"
   ]
  },
  {
   "cell_type": "markdown",
   "metadata": {},
   "source": [
    "Here we trained and tested different algorithms (Linear Regression, SGD, Decision Tree Regression and Random Forest Regression) to establish which had better results."
   ]
  },
  {
   "cell_type": "code",
   "execution_count": 9,
   "metadata": {},
   "outputs": [
    {
     "data": {
      "text/plain": [
       "RandomForestRegressor(n_estimators=128, random_state=48)"
      ]
     },
     "execution_count": 9,
     "metadata": {},
     "output_type": "execute_result"
    }
   ],
   "source": [
    "#Training the 3 models\n",
    "\n",
    "#Linear Regression\n",
    "regressor = LinearRegression()\n",
    "regressor.fit(X_train, y_train)  #Fits it with a linar regression\n",
    "\n",
    "#SGD Regression\n",
    "sgd = SGDRegressor()\n",
    "sgd.fit(X_train, y_train)\n",
    "\n",
    "#Decision Tree Regression\n",
    "DTreeModel = DecisionTreeRegressor(max_depth=500)\n",
    "DTreeModel.fit(X_train,y_train)\n",
    "  \n",
    "#Random Forest Regression\n",
    "rfr= RandomForestRegressor(n_estimators = 128, random_state = 48) \n",
    "rfr.fit(X_train, y_train)"
   ]
  },
  {
   "cell_type": "code",
   "execution_count": 10,
   "metadata": {},
   "outputs": [],
   "source": [
    "#test all 4 models\n",
    "LR_pred = regressor.predict(X_test)\n",
    "SGD_pred = sgd.predict(X_test)\n",
    "Dtree_pred = DTreeModel.predict(X_test)\n",
    "Rforest_pred = rfr.predict(X_test)"
   ]
  },
  {
   "cell_type": "markdown",
   "metadata": {},
   "source": [
    "## Testing Prediction Percentage Score"
   ]
  },
  {
   "cell_type": "code",
   "execution_count": 11,
   "metadata": {},
   "outputs": [],
   "source": [
    "#gives out information about each model\n",
    "def ModelScoring(name, model): #pass the name of the model, and the model itself\n",
    "    print(name)\n",
    "    print('Mean Squared Error :',metrics.mean_squared_error(y_test, model.predict(X_test)))\n",
    "    print('Mean Absolute Error :',metrics.mean_absolute_error(y_test, model.predict(X_test)))\n",
    "    print('Root Mean Squared Error:', np.sqrt(metrics.mean_squared_error(y_test, model.predict(X_test))))\n",
    "    print(\"Score:\", model.score(X_test, y_test))\n",
    "    print()"
   ]
  },
  {
   "cell_type": "code",
   "execution_count": 12,
   "metadata": {},
   "outputs": [
    {
     "name": "stdout",
     "output_type": "stream",
     "text": [
      "SGD Regressor\n",
      "Mean Squared Error : 2330.2849730106263\n",
      "Mean Absolute Error : 36.398986582241655\n",
      "Root Mean Squared Error: 48.27302531446135\n",
      "Score: 0.20188623445926157\n",
      "\n",
      "Linear Regressor\n",
      "Mean Squared Error : 2325.7962434978367\n",
      "Mean Absolute Error : 36.420276591070795\n",
      "Root Mean Squared Error: 48.22650975861551\n",
      "Score: 0.20342360729367415\n",
      "\n",
      "Decision Tree Regressor\n",
      "Mean Squared Error : 10.493652677901277\n",
      "Mean Absolute Error : 1.7428265648038046\n",
      "Root Mean Squared Error: 3.239390788080573\n",
      "Score: 0.9964059637554903\n",
      "\n",
      "Random Forest Regressor\n",
      "Mean Squared Error : 8.193349606556493\n",
      "Mean Absolute Error : 1.5838365257784652\n",
      "Root Mean Squared Error: 2.8624027680528283\n",
      "Score: 0.9971938088334182\n",
      "\n"
     ]
    }
   ],
   "source": [
    "ModelScoring(\"SGD Regressor\", sgd)\n",
    "ModelScoring(\"Linear Regressor\", regressor)\n",
    "ModelScoring(\"Decision Tree Regressor\", DTreeModel)\n",
    "ModelScoring(\"Random Forest Regressor\", rfr)"
   ]
  },
  {
   "cell_type": "markdown",
   "metadata": {},
   "source": [
    "Here we see that the Random Forest Regressor has the highest score, followed suit by the Decision Tree Regressor.\n",
    "We therefore chose to demosntrate how these two work - and how, ultimately, the Decision Tree Regressor overfits the dataset."
   ]
  },
  {
   "cell_type": "code",
   "execution_count": 13,
   "metadata": {},
   "outputs": [
    {
     "data": {
      "text/plain": [
       "<matplotlib.legend.Legend at 0x18f68c414f0>"
      ]
     },
     "execution_count": 13,
     "metadata": {},
     "output_type": "execute_result"
    },
    {
     "data": {
      "image/png": "[encoded data removed]",
      "text/plain": [
       "<Figure size 800x640 with 1 Axes>"
      ]
     },
     "metadata": {},
     "output_type": "display_data"
    }
   ],
   "source": [
    "#plotting Decision Tree and Random Forest one over the other\n",
    "df2 = pd.DataFrame({'Actual': y_test, 'Predicted': Dtree_pred, 'rfr': Rforest_pred})\n",
    "figure(num=None, figsize=(10, 8), dpi=80, facecolor='w', edgecolor='k')\n",
    "ax = plt.gca()\n",
    "\n",
    "ax.set_xlabel('Actual')\n",
    "ax.set_ylabel('Predicted')\n",
    "ax.scatter(df2['Actual'], df2['Predicted'], color=\"b\", marker=\".\", label=\"Decision Tree Regression\")\n",
    "\n",
    "ax.scatter(df2['Actual'], df2['rfr'], color=\"r\", marker=\".\", label=\"Random Forest\")\n",
    "ax.legend(bbox_to_anchor=(1.05, 1), loc='upper left', borderaxespad=0.)"
   ]
  },
  {
   "cell_type": "markdown",
   "metadata": {},
   "source": [
    "## Predict todays closing price by giving todays opening price"
   ]
  },
  {
   "cell_type": "code",
   "execution_count": 14,
   "metadata": {},
   "outputs": [],
   "source": [
    "#normalizes date that is inserted so that it fits into the -1 to 1 scale\n",
    "def normalizeData(date):\n",
    "    outDate=pd.DataFrame([[date]])\n",
    "    outDate=scaler.transform(outDate)\n",
    "    return outDate"
   ]
  },
  {
   "cell_type": "code",
   "execution_count": 15,
   "metadata": {},
   "outputs": [],
   "source": [
    "#predicts the price according to the selected algorithm \n",
    "#(allows for selection; purposeful decision to allow method to be generic)\n",
    "def predictPrice(date, algorithm):\n",
    "    date=normalizeData(date)\n",
    "    prediction = algorithm.predict(date)\n",
    "    return prediction"
   ]
  },
  {
   "cell_type": "code",
   "execution_count": 16,
   "metadata": {},
   "outputs": [],
   "source": [
    "#calculates the difference between the result(s) of the selected model(s) and the real closing price \n",
    "def assessDifference(date, *argv, closing): #The args are the prediction algorithms you want to test on   \n",
    "    i=0\n",
    "    predList = []\n",
    "    for model in argv:\n",
    "        prediction = predictPrice(date, model)\n",
    "        print(\"Model \" +str(model) + \": \")\n",
    "        print(f'The predicted closing value is {str(float(prediction))} NOK')\n",
    "        print\n",
    "        predList.append(prediction)\n",
    "        print(f'The prediction is off by {float(closing-prediction)} NOK')\n",
    "        print(f'The prediction is off by {float((closing-prediction)*100/closing)}%')\n",
    "        i+=1\n",
    "        print() #New line\n",
    "    \n",
    "    #if testing multiple models\n",
    "    if i>1:\n",
    "        print(f'The mean of the models is {float(findMean(predList))} NOK')\n",
    "        print(f'The mean of the models is off by {findMeanDifference(closing, predList)} NOK')\n",
    "        print(f'The mean of the models is off by {float((findMeanDifference(closing, predList))*100/closing)}%')       "
   ]
  },
  {
   "cell_type": "code",
   "execution_count": 17,
   "metadata": {},
   "outputs": [],
   "source": [
    "def findMean(predictionList):\n",
    "    return sum(predictionList)/len(predictionList)"
   ]
  },
  {
   "cell_type": "code",
   "execution_count": 18,
   "metadata": {},
   "outputs": [],
   "source": [
    "def findMeanDifference(closing, predictionList):\n",
    "    return float(closing-findMean(predictionList))"
   ]
  },
  {
   "cell_type": "code",
   "execution_count": 19,
   "metadata": {},
   "outputs": [
    {
     "name": "stdout",
     "output_type": "stream",
     "text": [
      "Model DecisionTreeRegressor(max_depth=500): \n",
      "The predicted closing value is 1.577 NOK\n",
      "The prediction is off by 0.0 NOK\n",
      "The prediction is off by 0.0%\n",
      "\n",
      "Model RandomForestRegressor(n_estimators=128, random_state=48): \n",
      "The predicted closing value is 1.6900468749999977 NOK\n",
      "The prediction is off by -0.11304687499999777 NOK\n",
      "The prediction is off by -7.168476537729725%\n",
      "\n",
      "The mean of the models is 1.6335234374999987 NOK\n",
      "The mean of the models is off by -0.056523437499998774 NOK\n",
      "The mean of the models is off by -3.5842382688648557%\n"
     ]
    }
   ],
   "source": [
    "#demonstrates assessDifference for a date where data is available\n",
    "date = '2020-08-07'\n",
    "assessDifference(convertDate(date), DTreeModel,rfr, closing=df.loc[date][\"Close\"])"
   ]
  },
  {
   "cell_type": "code",
   "execution_count": 20,
   "metadata": {},
   "outputs": [],
   "source": [
    "def predictedAndReal(date, model):\n",
    "    predict = predictPrice(convertDate(date), model)\n",
    "    print(f'The predicted price on {date} is {float(predict)} NOK')\n",
    "    try:\n",
    "        result = df.loc[date]\n",
    "        print(f'The real price on {date} was {float(result[\"Close\"])} NOK')\n",
    "    except KeyError:\n",
    "        print(f\"The dataset doesn't have data for {date}\")\n",
    "    except:\n",
    "        pass"
   ]
  },
  {
   "cell_type": "markdown",
   "metadata": {},
   "source": [
    "## Find today's prediction"
   ]
  },
  {
   "cell_type": "markdown",
   "metadata": {},
   "source": [
    "As we had previously established, the Decision Tree Regressor ultimately overfits the dataset. We present, therefore, the solution to the assignment using the Random Forest Regressor."
   ]
  },
  {
   "cell_type": "code",
   "execution_count": 21,
   "metadata": {},
   "outputs": [
    {
     "name": "stdout",
     "output_type": "stream",
     "text": [
      "The predicted price on 2020-10-27 is 0.6361515625 NOK\n",
      "The dataset doesn't have data for 2020-10-27\n"
     ]
    }
   ],
   "source": [
    "predictedAndReal(fetchToday(),rfr) #Today's closing value, calculated with Random Forest Regression\n",
    "\n",
    "#The algorithm only returns different values until this date\n",
    "#predictedAndReal('2020-10-15', rfr)"
   ]
  }
 ],
 "metadata": {
  "kernelspec": {
   "display_name": "Python 3",
   "language": "python",
   "name": "python3"
  },
  "language_info": {
   "codemirror_mode": {
    "name": "ipython",
    "version": 3
   },
   "file_extension": ".py",
   "mimetype": "text/x-python",
   "name": "python",
   "nbconvert_exporter": "python",
   "pygments_lexer": "ipython3",
   "version": "3.8.3"
  }
 },
 "nbformat": 4,
 "nbformat_minor": 4
}
